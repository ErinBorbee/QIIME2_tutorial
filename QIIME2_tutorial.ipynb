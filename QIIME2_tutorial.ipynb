{
 "cells": [
  {
   "cell_type": "markdown",
   "id": "4bdca75a",
   "metadata": {},
   "source": [
    "# QIIME2 Tutorial\n",
    "This notebook contains information from the Moving Pictures Tutorial from the QIIME2 documentation. The goal of this notebook is to provide open space for practice with different steps involved in processing 16S data.\n",
    "\n",
    "*QIIME2 Moving Pictures Tutorial*\n",
    "\n",
    "https://docs.qiime2.org/2024.10/tutorials/moving-pictures/\n",
    "\n",
    "### Contents\n",
    "1. [Quality assessment](#1)\n",
    "2. [Denoising and merging reads](#2)\n",
    "3. [Diversity analyses](#3)\n",
    "4. [Taxonomic analysis](#4)\n",
    "5. [Differential abundance](#5)"
   ]
  },
  {
   "cell_type": "markdown",
   "id": "49ae3dcc",
   "metadata": {},
   "source": [
    "<a id=1></a>\n",
    "### 1. Quality Assessment\n",
    "In this step, we will use FastQC to assess the quality and length of our reads. The information from this assessment will provide us information on where to trim our reads in the denoising step."
   ]
  },
  {
   "cell_type": "code",
   "execution_count": null,
   "id": "8c28aad1",
   "metadata": {},
   "outputs": [],
   "source": []
  },
  {
   "cell_type": "markdown",
   "id": "23359d2a",
   "metadata": {},
   "source": [
    "<a id=2 ></a>\n",
    "### 2. Denoising and merging\n",
    "This step involves using the DADA2 plugin in QIIME2 to do error modeling and denoising of our reads as well as merge forward and reverse reads together."
   ]
  },
  {
   "cell_type": "code",
   "execution_count": null,
   "id": "0660f83b",
   "metadata": {},
   "outputs": [],
   "source": []
  },
  {
   "cell_type": "markdown",
   "id": "4e9f9544",
   "metadata": {},
   "source": [
    "<a id=3></a>\n",
    "### 3. Diversity analyses\n",
    "This section will cover the set up and how to run alpha and beta diversity analyses on our sequence data."
   ]
  },
  {
   "cell_type": "code",
   "execution_count": null,
   "id": "8e862474",
   "metadata": {},
   "outputs": [],
   "source": []
  }
 ],
 "metadata": {
  "kernelspec": {
   "display_name": "Bash",
   "language": "bash",
   "name": "bash"
  },
  "language_info": {
   "codemirror_mode": "shell",
   "file_extension": ".sh",
   "mimetype": "text/x-sh",
   "name": "bash"
  }
 },
 "nbformat": 4,
 "nbformat_minor": 5
}
